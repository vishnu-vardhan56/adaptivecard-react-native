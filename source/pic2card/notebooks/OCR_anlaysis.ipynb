{
 "cells": [
  {
   "cell_type": "code",
   "execution_count": null,
   "metadata": {},
   "outputs": [],
   "source": [
    "import os\n",
    "import sys\n",
    "from pathlib import Path\n",
    "from typing import Tuple, List\n",
    "import itertools\n",
    "\n",
    "import numpy as np\n",
    "import pandas as pd\n",
    "import cv2\n",
    "import pytesseract\n",
    "from PIL import Image\n",
    "\n",
    "import seaborn as sns\n",
    "import matplotlib.pyplot as plt\n",
    "\n",
    "%matplotlib inline"
   ]
  },
  {
   "cell_type": "code",
   "execution_count": null,
   "metadata": {},
   "outputs": [],
   "source": [
    "# Add package to system path.\n",
    "sys.path.insert(0, \"../mystique/\")"
   ]
  },
  {
   "cell_type": "code",
   "execution_count": null,
   "metadata": {},
   "outputs": [],
   "source": [
    "# Image resize keepint the aspect ratio of the image.\n",
    "# 1. Upscale size of 800\n",
    "size = np.array((450, 200)) # w, h\n",
    "fact = (800 / 450)\n",
    "print (size[0] / size[1], size)\n",
    "new_size = size * fact\n",
    "print(new_size[0]/new_size[1], new_size)\n",
    "\n",
    "# 2. Down scale to max size 1300"
   ]
  },
  {
   "cell_type": "code",
   "execution_count": null,
   "metadata": {},
   "outputs": [],
   "source": [
    "template_labels1 = pd.read_csv(\"/home/haridas/projects/mystique/data/train_and_test-2020-Jun-05-coco/templates_test_data_coco.csv\")"
   ]
  },
  {
   "cell_type": "code",
   "execution_count": null,
   "metadata": {},
   "outputs": [],
   "source": [
    "template_labels = pd.read_csv(\"/home/haridas/projects/mystique/data/templates_test_data.csv\")\n",
    "template_imgdir = Path(\"/home/haridas/projects/mystique/data/templates_test_data/\")"
   ]
  },
  {
   "cell_type": "code",
   "execution_count": null,
   "metadata": {},
   "outputs": [],
   "source": [
    "# template_labels.groupby(\"filename\").count()"
   ]
  },
  {
   "cell_type": "code",
   "execution_count": null,
   "metadata": {},
   "outputs": [],
   "source": [
    "template_labels = template_labels[template_labels[\"class\"].isin([\"textbox\", \"actionset\", \"radiobutton\"])]"
   ]
  },
  {
   "cell_type": "code",
   "execution_count": null,
   "metadata": {},
   "outputs": [],
   "source": [
    "def crop_prop(row: pd.Series, img_dir: str):\n",
    "    img = Image.open(Path(img_dir) / Path(row.filename))\n",
    "    #box_labels = labels[labels.filename == \"2.png\"]\n",
    "    # img.crop(box_labels.tolist()[-4:]).save(\"cropped.png\")\n",
    "    #for row in box_labels.iterrows():\n",
    "    imw, imh = img.size\n",
    "    box_coord = row.tolist()[-4:]\n",
    "    img = img.crop(box_coord)\n",
    "    w, h = img.size\n",
    "    names = (\"filename\", \"imwidth\", \"imheight\", \n",
    "             \"bwidth\", \"bheight\", \"left\", \"top\", \"right\", \"bottom\",\n",
    "             #\"cwidth\", \"cheight\", \"cw_iw\", \"ch_ih\",\n",
    "             \"char\", \"cleft\", \"cbottom\", \"cright\", \"ctop\",\n",
    "             \"box_srno\")\n",
    "    # remove page and add index to box.\n",
    "    char_bboxs = [dict(list(zip(names,\n",
    "                                [row.filename, imw, imh, w, h] + \n",
    "                                box_coord + \n",
    "                                box.split()[:-1] + \n",
    "                                [row.name]\n",
    "                               )))\n",
    "                  for ind,box in enumerate(pytesseract.image_to_boxes(img).split(\"\\n\")) if box.split()]\n",
    "    \n",
    "    # bottom-left,right-top => top-left, bottom-right\n",
    "    for cbox in char_bboxs:\n",
    "        cbox[\"ctop\"] = h - int(cbox[\"ctop\"])\n",
    "        cbox[\"cbottom\"] = h - int(cbox[\"cbottom\"])\n",
    "    return char_bboxs"
   ]
  },
  {
   "cell_type": "code",
   "execution_count": null,
   "metadata": {},
   "outputs": [],
   "source": [
    "# pd.DataFrame.from_records?\n",
    "# template_labels.apply\n",
    "img = Image.open(template_imgdir / \"Group 5.png\").convert(\"RGB\")"
   ]
  },
  {
   "cell_type": "code",
   "execution_count": null,
   "metadata": {},
   "outputs": [],
   "source": [
    "# plt.plot(np.asarray(img))\n",
    "plt.imshow(img)"
   ]
  },
  {
   "cell_type": "code",
   "execution_count": null,
   "metadata": {},
   "outputs": [],
   "source": [
    "# img.crop?\n",
    "# template_labels.head()\n",
    "img_np = np.array(img)"
   ]
  },
  {
   "cell_type": "code",
   "execution_count": null,
   "metadata": {},
   "outputs": [],
   "source": [
    "# cv2.cvtColor?"
   ]
  },
  {
   "cell_type": "code",
   "execution_count": null,
   "metadata": {},
   "outputs": [],
   "source": [
    "# RGB -> BGR \n",
    "img_np[:, :, ::-1]\n",
    "# cv2.cvtColor(img_np, cv2.CV2)"
   ]
  },
  {
   "cell_type": "code",
   "execution_count": null,
   "metadata": {},
   "outputs": [],
   "source": [
    "# img_t = Image.open(\"../mystique/models/pth/detr_cpp/cropped_images/cropped.png\")\n",
    "chardf = pd.DataFrame.from_records(list(itertools.chain.from_iterable(\n",
    "    template_labels.apply(lambda x: crop_prop(x, template_imgdir), axis=1))))"
   ]
  },
  {
   "cell_type": "code",
   "execution_count": null,
   "metadata": {},
   "outputs": [],
   "source": []
  },
  {
   "cell_type": "code",
   "execution_count": null,
   "metadata": {},
   "outputs": [],
   "source": [
    "chardf.head()"
   ]
  },
  {
   "cell_type": "code",
   "execution_count": null,
   "metadata": {},
   "outputs": [],
   "source": [
    "chardf.cleft = chardf.cleft.apply(lambda x: int(x))\n",
    "chardf.ctop = chardf.ctop.apply(lambda x: int(x))\n",
    "chardf.cright = chardf.cright.apply(lambda x: int(x))\n",
    "chardf.cbottom = chardf.cbottom.apply(lambda x: int(x))"
   ]
  },
  {
   "cell_type": "code",
   "execution_count": null,
   "metadata": {},
   "outputs": [],
   "source": [
    "#\"cwidth\", \"cheight\", \"cw_iw\", \"ch_ih\",\n",
    "chardf[\"cwidth\"] = chardf[\"cright\"] - chardf[\"cleft\"]\n",
    "chardf[\"cheight\"] = chardf[\"cbottom\"] - chardf[\"ctop\"]\n",
    "chardf[\"cw_iw\"] = (chardf[\"cwidth\"] / chardf[\"imwidth\"]) * 100 \n",
    "chardf[\"ch_ih\"] = (chardf[\"cheight\"] / chardf[\"imheight\"]) * 100"
   ]
  },
  {
   "cell_type": "code",
   "execution_count": null,
   "metadata": {},
   "outputs": [],
   "source": [
    "names = [\"filename\", \"imwidth\", \"imheight\", \n",
    "         \"bwidth\", \"bheight\", \"left\", \"top\", \"right\", \"bottom\",\n",
    "         \"cwidth\", \"cheight\", \"cw_iw\", \"ch_ih\",\n",
    "         \"char\", \"cleft\", \"ctop\", \"cright\", \"cbottom\",\n",
    "         \"box_srno\"]\n",
    "chardf = chardf[names]"
   ]
  },
  {
   "cell_type": "code",
   "execution_count": null,
   "metadata": {},
   "outputs": [],
   "source": [
    "chardf.shape"
   ]
  },
  {
   "cell_type": "code",
   "execution_count": null,
   "metadata": {},
   "outputs": [],
   "source": [
    "chardf.head()"
   ]
  },
  {
   "cell_type": "code",
   "execution_count": null,
   "metadata": {},
   "outputs": [],
   "source": [
    "chardf.to_csv(\"./template_chars_map_new.csv\", index=False)"
   ]
  },
  {
   "cell_type": "code",
   "execution_count": null,
   "metadata": {},
   "outputs": [],
   "source": [
    "def gbf_save_cropped_img(imgdf: pd.DataFrame, img_dir, out_file=\"cropped.png\"):\n",
    "    \"For every box, we get the list of char and its properties.\"\n",
    "    row = imgdf.iloc[0]\n",
    "    imgname = row.filename\n",
    "    box_srno = row.box_srno\n",
    "    left, top, right, bottom = row.left, row.top, row.right, row.bottom\n",
    "    img = Image.open(Path(img_dir) / Path(imgname)).convert(\"RGB\")\n",
    "    img = img.crop((left, top, right, bottom))\n",
    "    \n",
    "    img_np = np.array(img)\n",
    "    \n",
    "    # RGB -> BGR, cv2 comptible, copy required keep the layout correct.\n",
    "    img_cv2 = img_np[:, :, ::-1].copy()\n",
    "    \n",
    "    for ind, crow in imgdf.iterrows():\n",
    "        _ = cv2.rectangle(\n",
    "            img_cv2,\n",
    "            (int(crow.cleft), int(crow.ctop)),\n",
    "            (int(crow.cright), int(crow.cbottom)),\n",
    "            (0,0,0),\n",
    "            1)\n",
    "    cv2.imwrite(f\"{imgname}_{box_srno}_{out_file}\", img_cv2)\n",
    "    \n",
    "    \n",
    "def gbf_box_stats(imgdf: pd.DataFrame):\n",
    "    \"For every box, we get the list of char and its properties.\"\n",
    "    row = imgdf.iloc[0]\n",
    "    imgname = row.filename\n",
    "    box_srno = row.box_srno\n",
    "    \n",
    "    test = imgdf.describe()\n",
    "    print(test)"
   ]
  },
  {
   "cell_type": "code",
   "execution_count": null,
   "metadata": {},
   "outputs": [],
   "source": [
    "# Plot images for few samples.\n",
    "# chardf.groupby(by=[\"filename\", \"box_srno\"]).apply(lambda x: gbf_save_cropped_img(x, img_dir=template_imgdir))"
   ]
  },
  {
   "cell_type": "code",
   "execution_count": null,
   "metadata": {},
   "outputs": [],
   "source": [
    "chardf[((chardf.box_srno == 0) & (chardf.filename == \"Group 5.png\"))].describe(np.arange(0, 1, 0.1))[[\"cw_iw\", \"ch_ih\"]][1:].plot(kind=\"bar\", table=True)"
   ]
  },
  {
   "cell_type": "code",
   "execution_count": null,
   "metadata": {},
   "outputs": [],
   "source": [
    "chardf.describe(np.arange(0, 1, 0.1))[[\"cw_iw\", \"ch_ih\"]][1:]"
   ]
  },
  {
   "cell_type": "code",
   "execution_count": null,
   "metadata": {},
   "outputs": [],
   "source": [
    "chardf.iloc[:100].groupby(by=[\"filename\", \"box_srno\"]).apply(gbf_box_stats)"
   ]
  }
 ],
 "metadata": {
  "kernelspec": {
   "display_name": "Python 3",
   "language": "python",
   "name": "python3"
  },
  "language_info": {
   "codemirror_mode": {
    "name": "ipython",
    "version": 3
   },
   "file_extension": ".py",
   "mimetype": "text/x-python",
   "name": "python",
   "nbconvert_exporter": "python",
   "pygments_lexer": "ipython3",
   "version": "3.7.5"
  }
 },
 "nbformat": 4,
 "nbformat_minor": 4
}
