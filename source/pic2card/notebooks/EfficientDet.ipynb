{
 "cells": [
  {
   "cell_type": "code",
   "execution_count": null,
   "metadata": {},
   "outputs": [],
   "source": [
    "import sys\n",
    "\n",
    "eff_root = \"/home/haridas/projects/opensource/automl/efficientdet/\"\n",
    "sys.path.insert(0, eff_root)"
   ]
  },
  {
   "cell_type": "code",
   "execution_count": null,
   "metadata": {},
   "outputs": [],
   "source": [
    "import numpy as np\n",
    "import pandas as pd\n",
    "import os\n",
    "\n",
    "from PIL import Image\n",
    "\n",
    "\n",
    "# efficientdet related packages.\n",
    "import tensorflow.compat.v1 as tf\n",
    "import hparams_config\n",
    "import dataloader\n",
    "import det_model_fn\n",
    "\n",
    "from keras import train, train_lib\n",
    "\n",
    "\n",
    "os.environ[\"CUDA_VISIBLE_DEVICES\"] = \"\""
   ]
  },
  {
   "cell_type": "code",
   "execution_count": null,
   "metadata": {},
   "outputs": [],
   "source": [
    "# print_tensors_in_checkpoint_file(file_name=\"/home/haridas/projects/opensource/automl/efficientdet/efficientdet-d1/\", tensor_name=\"resample_p1\", all_tensors=True)"
   ]
  },
  {
   "cell_type": "markdown",
   "metadata": {},
   "source": [
    "## TFRecord analysis"
   ]
  },
  {
   "cell_type": "code",
   "execution_count": null,
   "metadata": {},
   "outputs": [],
   "source": [
    "tfr_file = \"/home/haridas/projects/opensource/automl/efficientdet/data/val/val-00000-of-00001.tfrecord\""
   ]
  },
  {
   "cell_type": "code",
   "execution_count": null,
   "metadata": {},
   "outputs": [],
   "source": [
    "raw_dataset = tf.data.TFRecordDataset(tfr_file)"
   ]
  },
  {
   "cell_type": "code",
   "execution_count": null,
   "metadata": {},
   "outputs": [],
   "source": [
    "raw_record = raw_dataset.take(1)"
   ]
  },
  {
   "cell_type": "code",
   "execution_count": null,
   "metadata": {},
   "outputs": [],
   "source": [
    "example = tf.train.Example()"
   ]
  },
  {
   "cell_type": "code",
   "execution_count": null,
   "metadata": {},
   "outputs": [],
   "source": [
    "# example.ParseFromString(raw_record.numpy())"
   ]
  },
  {
   "cell_type": "markdown",
   "metadata": {},
   "source": [
    "## Model Inference Experiment"
   ]
  },
  {
   "cell_type": "code",
   "execution_count": null,
   "metadata": {},
   "outputs": [],
   "source": [
    "min_score_threh = 0.35\n",
    "max_boxes_to_draw = 100\n",
    "line_thickness = 2"
   ]
  },
  {
   "cell_type": "code",
   "execution_count": null,
   "metadata": {},
   "outputs": [],
   "source": [
    "img_path = \"/home/haridas/projects/mystique/data/pic2card_dataset_01_apr_2021/test/2.png\""
   ]
  },
  {
   "cell_type": "code",
   "execution_count": null,
   "metadata": {},
   "outputs": [],
   "source": [
    "img = Image.open(img_path)\n",
    "img.size"
   ]
  },
  {
   "cell_type": "code",
   "execution_count": null,
   "metadata": {},
   "outputs": [],
   "source": [
    "# !python /home/haridas/projects/opensource/automl/efficientdet/model_inspect.py --help\n",
    "\n",
    "# tf.estimator.tpu.RunConfig(\n",
    "#     model_dir=\"path\",\n",
    "#     evaluation_master=\"\",\n",
    "#     cluster=None\n",
    "# )"
   ]
  },
  {
   "cell_type": "markdown",
   "metadata": {},
   "source": [
    "## Model Inspect"
   ]
  },
  {
   "cell_type": "code",
   "execution_count": null,
   "metadata": {},
   "outputs": [],
   "source": [
    "checkpoint = tf.train.get_checkpoint_state(os.path.join(eff_root, \"out/efficientdet-d1-finetuned-2020-11-04-1604487101/\"))"
   ]
  },
  {
   "cell_type": "code",
   "execution_count": null,
   "metadata": {},
   "outputs": [],
   "source": [
    "checkpoint.model_checkpoint_path"
   ]
  },
  {
   "cell_type": "code",
   "execution_count": null,
   "metadata": {},
   "outputs": [],
   "source": [
    "model_fn_instance = det_model_fn.get_model_fn(\"efficientdet-d1\")"
   ]
  },
  {
   "cell_type": "code",
   "execution_count": null,
   "metadata": {},
   "outputs": [],
   "source": [
    "config = hparams_config.get_detection_config(\"efficientdet-d1\")"
   ]
  },
  {
   "cell_type": "code",
   "execution_count": null,
   "metadata": {},
   "outputs": [],
   "source": []
  },
  {
   "cell_type": "code",
   "execution_count": null,
   "metadata": {},
   "outputs": [],
   "source": [
    "params = dict(config.as_dict(),\n",
    "              model_name=\"efficientdet-d1\",\n",
    "              iterations_per_loop=100,\n",
    "              model_dir=checkpoint.mo0jd\n",
    "             )"
   ]
  },
  {
   "cell_type": "markdown",
   "metadata": {},
   "source": [
    "## Saved Model Inspection"
   ]
  },
  {
   "cell_type": "code",
   "execution_count": null,
   "metadata": {},
   "outputs": [],
   "source": [
    "saved_model_path = \"/home/haridas/projects/opensource/automl/efficientdet/out/efficientdet-d1-finetuned-2021-04-29-1619710132/saved_model\""
   ]
  },
  {
   "cell_type": "code",
   "execution_count": null,
   "metadata": {},
   "outputs": [],
   "source": [
    "imported.signatures[\"serving_default\"]"
   ]
  },
  {
   "cell_type": "code",
   "execution_count": null,
   "metadata": {},
   "outputs": [],
   "source": [
    "# imported = tf.saved_model.load_v2(saved_model_path)"
   ]
  },
  {
   "cell_type": "code",
   "execution_count": null,
   "metadata": {},
   "outputs": [],
   "source": []
  },
  {
   "cell_type": "markdown",
   "metadata": {},
   "source": [
    "## Frozen Model Inference\n",
    "\n",
    "The model is trained with custom configuration and augmentation, the changes are commited here: https://github.com/haridas/automl/tree/pic2card\n",
    "\n",
    "Reference: https://github.com/google/automl/issues/933\n",
    "\n",
    "\n",
    "Export the saved models from the training checkpoints using the following command,\n",
    "\n",
    "```bash\n",
    "$ python model_inspect.py --runmode=saved_model \\\n",
    "    --model_name=efficientdet-d1 \\\n",
    "    --ckpt_path out/efficientdet-d1-finetuned-2021-04-29-1619710132 \\\n",
    "    --saved_model_dir out/efficientdet-d1-finetuned-2021-04-29-1619710132/\n",
    "```\n",
    "\n",
    "Above command will save both `saved_model` and `frozen_graph` version of the trained checkpoint.\n",
    "We are using frozen_graph for our deployments."
   ]
  },
  {
   "cell_type": "code",
   "execution_count": null,
   "metadata": {},
   "outputs": [],
   "source": [
    "frozen_model_path = \"/home/haridas/projects/opensource/automl/efficientdet/out/efficientdet-d1-finetuned-2021-04-29-1619710132/saved_model/efficientdet-d1_frozen.pb\""
   ]
  },
  {
   "cell_type": "code",
   "execution_count": null,
   "metadata": {},
   "outputs": [],
   "source": [
    "def get_image_array(im_path):\n",
    "    im = Image.open(im_path).convert(\"RGB\")\n",
    "    im_arr = np.frombuffer(im.tobytes(), dtype=np.uint8)\n",
    "    im_arr = im_arr.reshape((1, im.size[1], im.size[0], 3))jkk\n",
    "    return im_arr"
   ]
  },
  {
   "cell_type": "code",
   "execution_count": null,
   "metadata": {},
   "outputs": [],
   "source": [
    "with tf.io.gfile.GFile(frozen_model_path, 'rb') as f:\n",
    "    graph_def = tf.compat.v1.GraphDef()\n",
    "    loaded = graph_def.ParseFromString(f.read())"
   ]
  },
  {
   "cell_type": "code",
   "execution_count": null,
   "metadata": {},
   "outputs": [],
   "source": [
    "def wrap_frozen_graph(graph_def, inputs, outputs, print_graph=False):\n",
    "    def _imports_graph_def():\n",
    "        tf.compat.v1.import_graph_def(graph_def, name=\"\")\n",
    "\n",
    "    wrapped_import = tf.compat.v1.wrap_function(_imports_graph_def, [])\n",
    "    import_graph = wrapped_import.graph\n",
    "    \n",
    "#     if print_graph == True:\n",
    "#         print(\"-\" * 50)\n",
    "#         print(\"Frozen model layers: \")\n",
    "#         layers = [op.name for op in import_graph.get_operations()]\n",
    "#         for layer in layers:\n",
    "#             print(layer)\n",
    "#         print(\"-\" * 50)\n",
    "\n",
    "    return wrapped_import.prune(\n",
    "        tf.nest.map_structure(import_graph.as_graph_element, inputs),\n",
    "        tf.nest.map_structure(import_graph.as_graph_element, outputs))"
   ]
  },
  {
   "cell_type": "code",
   "execution_count": null,
   "metadata": {},
   "outputs": [],
   "source": [
    "frozen_func = wrap_frozen_graph(graph_def=graph_def,\n",
    "                                inputs=[\"image_arrays:0\"],\n",
    "                                outputs=[\"detections:0\"]\n",
    "                               )"
   ]
  },
  {
   "cell_type": "code",
   "execution_count": null,
   "metadata": {},
   "outputs": [],
   "source": [
    "# get_image_array(img_path).shape"
   ]
  },
  {
   "cell_type": "code",
   "execution_count": null,
   "metadata": {},
   "outputs": [],
   "source": [
    "detections = frozen_func(tf.constant(get_image_array(img_path)))[0].numpy().squeeze()"
   ]
  },
  {
   "cell_type": "code",
   "execution_count": null,
   "metadata": {},
   "outputs": [],
   "source": [
    "detections[:, 5]"
   ]
  },
  {
   "cell_type": "markdown",
   "metadata": {},
   "source": [
    "# Keras implementation of EfficientDet"
   ]
  },
  {
   "cell_type": "code",
   "execution_count": null,
   "metadata": {},
   "outputs": [],
   "source": [
    "config_d1 = hparams_config.get_detection_config(\"efficientdet-d1\")"
   ]
  },
  {
   "cell_type": "code",
   "execution_count": null,
   "metadata": {},
   "outputs": [],
   "source": [
    "config_d1.model_dir"
   ]
  },
  {
   "cell_type": "code",
   "execution_count": null,
   "metadata": {},
   "outputs": [],
   "source": [
    "train_lib.EfficientDetNetTrain(config=config)"
   ]
  },
  {
   "cell_type": "code",
   "execution_count": null,
   "metadata": {},
   "outputs": [],
   "source": [
    "# with tf.Session(graph=tf.Graph()) as sess:\n",
    "#     saver = tf.train.import_meta_graph(checkpoint.model_checkpoint_path + '.meta', clear_devices=True)"
   ]
  },
  {
   "cell_type": "markdown",
   "metadata": {},
   "source": [
    "# References\n",
    "\n",
    "1. [https://ml6.eu/a-practical-guide-to-fine-tuning-efficientdet-for-object-detection/](https://ml6.eu/a-practical-guide-to-fine-tuning-efficientdet-for-object-detection/)"
   ]
  }
 ],
 "metadata": {
  "kernelspec": {
   "display_name": "Python 3",
   "language": "python",
   "name": "python3"
  },
  "language_info": {
   "codemirror_mode": {
    "name": "ipython",
    "version": 3
   },
   "file_extension": ".py",
   "mimetype": "text/x-python",
   "name": "python",
   "nbconvert_exporter": "python",
   "pygments_lexer": "ipython3",
   "version": "3.7.5"
  }
 },
 "nbformat": 4,
 "nbformat_minor": 4
}
