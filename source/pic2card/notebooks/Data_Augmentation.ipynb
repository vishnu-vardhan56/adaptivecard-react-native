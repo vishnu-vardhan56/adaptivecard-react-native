{
 "cells": [
  {
   "cell_type": "code",
   "execution_count": null,
   "id": "later-accessory",
   "metadata": {},
   "outputs": [],
   "source": [
    "import numpy as np\n",
    "import pandas as pd\n",
    "from PIL import Image\n",
    "from IPython import display\n",
    "\n",
    "import matplotlib.pyplot as plt\n",
    "\n",
    "%matplotlib inline"
   ]
  },
  {
   "cell_type": "code",
   "execution_count": null,
   "id": "magnetic-sierra",
   "metadata": {},
   "outputs": [],
   "source": []
  },
  {
   "cell_type": "code",
   "execution_count": null,
   "id": "cutting-trademark",
   "metadata": {},
   "outputs": [],
   "source": [
    "# Installed directly form the tf-models object_detection, no\n",
    "# direct pip package available.\n",
    "import object_detection as od\n",
    "from object_detection.core.preprocessor import (random_horizontal_flip, random_pixel_value_scale, random_adjust_contrast, random_adjust_hue,\n",
    "                                                random_rgb_to_gray, random_crop_image, random_adjust_brightness, random_adjust_saturation,\n",
    "                                               random_adjust_saturation, random_horizontal_flip, random_vertical_flip, random_distort_color,\n",
    "                                               random_downscale_to_target_pixels, random_image_scale, random_jitter_boxes, random_jpeg_quality,\n",
    "                                               adjust_gamma, random_downscale_to_target_pixels, random_patch_gaussian)\n",
    "\n",
    "from tensorflow_addons import image as image_ops"
   ]
  },
  {
   "cell_type": "code",
   "execution_count": null,
   "id": "endangered-skill",
   "metadata": {},
   "outputs": [],
   "source": []
  },
  {
   "cell_type": "code",
   "execution_count": null,
   "id": "humanitarian-gasoline",
   "metadata": {},
   "outputs": [],
   "source": [
    "image = Image.open(\"/home/haridas/projects/mystique/data/pic2card_dataset_03_mar_2021/train/18.png\")\n",
    "image"
   ]
  },
  {
   "cell_type": "code",
   "execution_count": null,
   "id": "integral-latin",
   "metadata": {},
   "outputs": [],
   "source": []
  },
  {
   "cell_type": "code",
   "execution_count": null,
   "id": "persistent-renewal",
   "metadata": {},
   "outputs": [],
   "source": []
  },
  {
   "cell_type": "code",
   "execution_count": null,
   "id": "floating-clinic",
   "metadata": {},
   "outputs": [],
   "source": [
    "# Image.fromarray(np.asarray(image))"
   ]
  },
  {
   "cell_type": "code",
   "execution_count": null,
   "id": "injured-option",
   "metadata": {},
   "outputs": [],
   "source": [
    "# plt.figure(figsize=(5,4)); plt.imshow(np.asarray(image))"
   ]
  },
  {
   "cell_type": "code",
   "execution_count": null,
   "id": "departmental-perfume",
   "metadata": {},
   "outputs": [],
   "source": [
    "image_hue = random_adjust_contrast(np.asarray(image), min_delta=1, max_delta=5, seed=10).numpy()\n",
    "plt.figure(figsize=(10,8))\n",
    "plt.imshow(np.uint8(image_hue))"
   ]
  },
  {
   "cell_type": "code",
   "execution_count": null,
   "id": "bigger-entry",
   "metadata": {},
   "outputs": [],
   "source": [
    "image_hue = random_adjust_hue(np.asarray(image), max_delta=1.0, seed=10).numpy()\n",
    "plt.figure(figsize=(5,4))\n",
    "# plt.imshow(image_hue)\n",
    "plt.imshow(np.uint8(image_hue))"
   ]
  },
  {
   "cell_type": "code",
   "execution_count": null,
   "id": "mature-monkey",
   "metadata": {},
   "outputs": [],
   "source": [
    "image_hue = random_adjust_saturation(np.asarray(image), min_delta=0.8, max_delta=1.8, seed=10).numpy()\n",
    "plt.figure(figsize=(10,8))\n",
    "plt.imshow(np.uint8(image_hue))"
   ]
  },
  {
   "cell_type": "code",
   "execution_count": null,
   "id": "criminal-effects",
   "metadata": {},
   "outputs": [],
   "source": [
    "image_hue = random_rgb_to_gray(np.asarray(image), probability=0.8, seed=10)\n",
    "plt.figure(figsize=(5,4))\n",
    "plt.imshow(np.uint8(image_hue))"
   ]
  },
  {
   "cell_type": "code",
   "execution_count": null,
   "id": "greater-model",
   "metadata": {},
   "outputs": [],
   "source": []
  },
  {
   "cell_type": "code",
   "execution_count": null,
   "id": "impaired-tumor",
   "metadata": {},
   "outputs": [],
   "source": [
    "image_hue = random_adjust_brightness(np.asarray(image), max_delta=0.2, seed=10)\n",
    "plt.figure(figsize=(6,4))\n",
    "plt.imshow(np.uint8(image_hue))"
   ]
  },
  {
   "cell_type": "code",
   "execution_count": null,
   "id": "dependent-blues",
   "metadata": {},
   "outputs": [],
   "source": [
    "# random_horizontal_flip?\n",
    "np.asarray(image).shape"
   ]
  },
  {
   "cell_type": "code",
   "execution_count": null,
   "id": "innovative-queen",
   "metadata": {},
   "outputs": [],
   "source": [
    "image_h = random_horizontal_flip(np.asarray(image))[0]\n",
    "plt.figure(figsize=(5,4))\n",
    "plt.imshow(np.uint8(image_h))"
   ]
  },
  {
   "cell_type": "code",
   "execution_count": null,
   "id": "integrated-accordance",
   "metadata": {},
   "outputs": [],
   "source": [
    "# image_h = random_vertical_flip(np.asarray(image))[0]\n",
    "# plt.figure(figsize=(5,4))\n",
    "# plt.imshow(np.uint8(image_h))"
   ]
  },
  {
   "cell_type": "code",
   "execution_count": null,
   "id": "adjustable-vegetarian",
   "metadata": {},
   "outputs": [],
   "source": [
    "image_h = random_pixel_value_scale(np.asarray(image), minval=1.0, maxval=1.2)\n",
    "plt.figure(figsize=(10,8))\n",
    "print(image_h.shape)\n",
    "plt.imshow(np.uint8(image_h))"
   ]
  },
  {
   "cell_type": "code",
   "execution_count": null,
   "id": "selective-stopping",
   "metadata": {},
   "outputs": [],
   "source": [
    "# Image.fromarray(np.uint8(image_h))\n",
    "# random_image_scale?"
   ]
  },
  {
   "cell_type": "code",
   "execution_count": null,
   "id": "scenic-lounge",
   "metadata": {},
   "outputs": [],
   "source": [
    "image_h = random_image_scale(np.asarray(image), min_scale_ratio=0.8, max_scale_ratio=1.9, seed=122)[0]\n",
    "plt.figure(figsize=(10,8))\n",
    "# plt.imshow(np.uint8(image_h))\n",
    "print (image_h.shape)"
   ]
  },
  {
   "cell_type": "code",
   "execution_count": null,
   "id": "patient-hours",
   "metadata": {},
   "outputs": [],
   "source": [
    "# image_h = adjust_gamma(np.asarray(image), gamma=8, gain=2)\n",
    "# plt.figure(figsize=(5,4))\n",
    "# plt.imshow(np.uint8(image_h))"
   ]
  },
  {
   "cell_type": "code",
   "execution_count": null,
   "id": "realistic-fossil",
   "metadata": {},
   "outputs": [],
   "source": [
    "image_h = random_distort_color(np.asarray(image))\n",
    "plt.figure(figsize=(10,8))\n",
    "plt.imshow(np.uint8(image_h))"
   ]
  },
  {
   "cell_type": "code",
   "execution_count": null,
   "id": "frank-november",
   "metadata": {},
   "outputs": [],
   "source": [
    "# np.uint8(image_h.numpy())"
   ]
  },
  {
   "cell_type": "code",
   "execution_count": null,
   "id": "renewable-conditions",
   "metadata": {},
   "outputs": [],
   "source": [
    "# image_h = random_patch_gaussian(np.asarray(image))\n",
    "# plt.figure(figsize=(10,8))\n",
    "# plt.imshow(np.uint8(image_h))"
   ]
  },
  {
   "cell_type": "code",
   "execution_count": null,
   "id": "minor-onion",
   "metadata": {},
   "outputs": [],
   "source": []
  },
  {
   "cell_type": "code",
   "execution_count": null,
   "id": "nasty-processing",
   "metadata": {},
   "outputs": [],
   "source": []
  },
  {
   "cell_type": "code",
   "execution_count": null,
   "id": "unable-translation",
   "metadata": {},
   "outputs": [],
   "source": [
    "# plt.imshow(np.asarray(image.convert(\"RGB\")))"
   ]
  },
  {
   "cell_type": "code",
   "execution_count": null,
   "id": "imposed-prophet",
   "metadata": {},
   "outputs": [],
   "source": [
    "# image_h.numpy()\n",
    "image_h = random_jpeg_quality(np.asarray(image.convert(\"RGB\")), min_jpeg_quality=40, max_jpeg_quality=100)\n",
    "# Image.fromarray(np.uint8(image_h.numpy()))\n",
    "plt.figure(figsize=(10,8))\n",
    "print(image_h.shape)\n",
    "plt.imshow(np.uint8(image_h))"
   ]
  },
  {
   "cell_type": "code",
   "execution_count": null,
   "id": "charitable-boxing",
   "metadata": {},
   "outputs": [],
   "source": [
    "random_downscale_to_target_pixels?"
   ]
  },
  {
   "cell_type": "code",
   "execution_count": null,
   "id": "continent-farmer",
   "metadata": {},
   "outputs": [],
   "source": [
    "image_h = random_downscale_to_target_pixels(np.asarray(image), min_target_pixels=2000000, max_target_pixels=30000000)\n",
    "print(image_h.shape)\n",
    "Image.fromarray(np.uint8(image_h.numpy()))"
   ]
  },
  {
   "cell_type": "code",
   "execution_count": null,
   "id": "aerial-washington",
   "metadata": {},
   "outputs": [],
   "source": [
    "np.asarray(image).shape"
   ]
  },
  {
   "cell_type": "code",
   "execution_count": null,
   "id": "binary-functionality",
   "metadata": {},
   "outputs": [],
   "source": []
  },
  {
   "cell_type": "code",
   "execution_count": null,
   "id": "suffering-angle",
   "metadata": {},
   "outputs": [],
   "source": [
    "# image_h = random_jitter_boxes(np.asarray(image))\n",
    "# print(image_h.shape)\n",
    "# Image.fromarray(np.uint8(image_h.numpy()))"
   ]
  },
  {
   "cell_type": "code",
   "execution_count": null,
   "id": "professional-consultation",
   "metadata": {},
   "outputs": [],
   "source": [
    "import tensorflow as tf\n",
    "from tensorflow.python.framework.convert_to_constants import convert_variables_to_constants_v2"
   ]
  },
  {
   "cell_type": "code",
   "execution_count": null,
   "id": "capital-airfare",
   "metadata": {},
   "outputs": [],
   "source": []
  },
  {
   "cell_type": "code",
   "execution_count": null,
   "id": "changing-gallery",
   "metadata": {},
   "outputs": [],
   "source": [
    "input_layer = layers[0]\n",
    "layer2 = layers[1]"
   ]
  },
  {
   "cell_type": "code",
   "execution_count": null,
   "id": "hairy-welding",
   "metadata": {},
   "outputs": [],
   "source": [
    "frozen_func.outputs"
   ]
  },
  {
   "cell_type": "code",
   "execution_count": null,
   "id": "colonial-advocate",
   "metadata": {},
   "outputs": [],
   "source": []
  },
  {
   "cell_type": "markdown",
   "id": "premier-drilling",
   "metadata": {},
   "source": [
    "# Augmentation from Tensorflow Addons "
   ]
  },
  {
   "cell_type": "code",
   "execution_count": null,
   "id": "subjective-lingerie",
   "metadata": {},
   "outputs": [],
   "source": [
    "# image"
   ]
  },
  {
   "cell_type": "code",
   "execution_count": null,
   "id": "israeli-survival",
   "metadata": {},
   "outputs": [],
   "source": []
  },
  {
   "cell_type": "code",
   "execution_count": null,
   "id": "ongoing-validity",
   "metadata": {},
   "outputs": [],
   "source": [
    "Image.fromarray(image_ops.shear_x(np.asarray(image.convert(\"RGB\")), 0.3, 0).numpy())"
   ]
  },
  {
   "cell_type": "code",
   "execution_count": null,
   "id": "prospective-vault",
   "metadata": {},
   "outputs": [],
   "source": [
    "Image.fromarray(image_ops.(np.asarray(image.convert(\"RGB\"))).numpy())"
   ]
  },
  {
   "cell_type": "code",
   "execution_count": null,
   "id": "moving-speed",
   "metadata": {},
   "outputs": [],
   "source": [
    "Image.fromarray(image_ops.equalize(np.asarray(image.convert(\"RGB\"))).numpy())"
   ]
  },
  {
   "cell_type": "code",
   "execution_count": null,
   "id": "handy-elements",
   "metadata": {},
   "outputs": [],
   "source": [
    "Image.fromarray(image_ops.sharpness(np.asarray(image.convert(\"RGB\")), 10).numpy())"
   ]
  },
  {
   "cell_type": "code",
   "execution_count": null,
   "id": "lucky-belarus",
   "metadata": {},
   "outputs": [],
   "source": [
    "Image.fromarray(image_ops.translate(np.asarray(image.convert(\"RGB\")), [10, 10]).numpy())"
   ]
  }
 ],
 "metadata": {
  "kernelspec": {
   "display_name": "Python 3",
   "language": "python",
   "name": "python3"
  },
  "language_info": {
   "codemirror_mode": {
    "name": "ipython",
    "version": 3
   },
   "file_extension": ".py",
   "mimetype": "text/x-python",
   "name": "python",
   "nbconvert_exporter": "python",
   "pygments_lexer": "ipython3",
   "version": "3.7.5"
  }
 },
 "nbformat": 4,
 "nbformat_minor": 5
}
