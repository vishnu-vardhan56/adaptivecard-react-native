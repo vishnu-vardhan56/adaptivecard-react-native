{
 "cells": [
  {
   "cell_type": "code",
   "execution_count": null,
   "metadata": {},
   "outputs": [],
   "source": [
    "%load_ext autoreload\n",
    "%autoreload 2"
   ]
  },
  {
   "cell_type": "code",
   "execution_count": null,
   "metadata": {},
   "outputs": [],
   "source": [
    "import numpy as np\n",
    "import os\n",
    "import six.moves.urllib as urllib\n",
    "import sys\n",
    "import tarfile\n",
    "import tensorflow as tf\n",
    "import zipfile\n",
    "from PIL import Image\n",
    "import cv2\n",
    "\n",
    "# from object_detection.utils import label_map_util\n",
    "# from object_detection.utils import visualization_utils as vis_util\n",
    "\n",
    "os.environ[\"CUDA_VISIBLE_DEVICES\"] = \"\"\n",
    "sys.path.insert(0, \"../\")\n",
    "\n",
    "from mystique.initial_setups import set_graph_and_tensors\n",
    "from mystique.predict_card import PredictCard\n",
    "from mystique.detect_objects import ObjectDetection\n",
    "from mystique.utils import plot_results\n",
    "\n",
    "\n",
    "# This is needed to display the images.\n",
    "%matplotlib inline"
   ]
  },
  {
   "cell_type": "code",
   "execution_count": null,
   "metadata": {},
   "outputs": [],
   "source": []
  },
  {
   "cell_type": "code",
   "execution_count": null,
   "metadata": {},
   "outputs": [],
   "source": [
    "def predict_bbox(img_path) -> np.array:\n",
    "    \"\"\"\n",
    "    Predict the bounding boxes, class label and draw the bbox\n",
    "    on the original image.\n",
    "    \"\"\"\n",
    "    img = Image.open(img_path)\n",
    "    img_np = np.asarray(img)\n",
    "    img_np = cv2.cvtColor(img_np, cv2.COLOR_RGB2BGR)\n",
    "    img_np_copy = img_np.copy()\n",
    "    object_detection = ObjectDetection()\n",
    "    \n",
    "    output = object_detection.get_objects(img_np, img)\n",
    "    # google models wants ymin, xmin, ymax, xmax format.\n",
    "    # output[\"detection_boxes\"] = output[\"detection_boxes\"][:, [1, 0, 3, 2]]\n",
    "    \n",
    "    # print(output.keys())\n",
    "    \n",
    "    _img = plot_results(img,\n",
    "                 output[\"detection_classes\"],\n",
    "                 output[\"detection_scores\"],\n",
    "                 output[\"detection_boxes\"]\n",
    "                )\n",
    "    return _img"
   ]
  },
  {
   "cell_type": "code",
   "execution_count": null,
   "metadata": {},
   "outputs": [],
   "source": [
    "img_path = \"/home/haridas/projects/AdaptiveCards-ro/source/pic2card/app/assets/samples/3.png\"\n",
    "\n",
    "Image.open(predict_bbox(img_path))"
   ]
  },
  {
   "cell_type": "code",
   "execution_count": null,
   "metadata": {},
   "outputs": [],
   "source": []
  },
  {
   "cell_type": "code",
   "execution_count": null,
   "metadata": {},
   "outputs": [],
   "source": [
    "img_path = \"/home/haridas/projects/AdaptiveCards-ro/source/pic2card/app/assets/samples/1.png\"\n",
    "Image.open(predict_bbox(img_path))"
   ]
  },
  {
   "cell_type": "markdown",
   "metadata": {},
   "source": [
    "## Model Graph Analysis"
   ]
  },
  {
   "cell_type": "code",
   "execution_count": null,
   "metadata": {},
   "outputs": [],
   "source": [
    "graph, gconf = set_graph_and_tensors()"
   ]
  },
  {
   "cell_type": "code",
   "execution_count": null,
   "metadata": {},
   "outputs": [],
   "source": []
  },
  {
   "cell_type": "code",
   "execution_count": null,
   "metadata": {},
   "outputs": [],
   "source": []
  },
  {
   "cell_type": "code",
   "execution_count": null,
   "metadata": {},
   "outputs": [],
   "source": [
    "graph.get_collection(tf.GraphKeys.TRAINABLE_VARIABLES)"
   ]
  },
  {
   "cell_type": "markdown",
   "metadata": {},
   "source": [
    "## RCNN and Family\n",
    "\n",
    "Inspect the different aspect of the RCNN family of models and debug and tune them based on the\n",
    "necessity."
   ]
  },
  {
   "cell_type": "markdown",
   "metadata": {},
   "source": [
    "### Anchor box generation example"
   ]
  },
  {
   "cell_type": "code",
   "execution_count": null,
   "metadata": {},
   "outputs": [],
   "source": [
    "model_dir = \"/home/haridas/projects/AdaptiveCards/source/pic2card/out/frcnn-2020-07-05-1593958532/\""
   ]
  },
  {
   "cell_type": "code",
   "execution_count": null,
   "metadata": {},
   "outputs": [],
   "source": [
    "last_checkpoint = tf.train.latest_checkpoint(model_dir)"
   ]
  }
 ],
 "metadata": {
  "kernelspec": {
   "display_name": "Python 3",
   "language": "python",
   "name": "python3"
  },
  "language_info": {
   "codemirror_mode": {
    "name": "ipython",
    "version": 3
   },
   "file_extension": ".py",
   "mimetype": "text/x-python",
   "name": "python",
   "nbconvert_exporter": "python",
   "pygments_lexer": "ipython3",
   "version": "3.7.5"
  }
 },
 "nbformat": 4,
 "nbformat_minor": 4
}
